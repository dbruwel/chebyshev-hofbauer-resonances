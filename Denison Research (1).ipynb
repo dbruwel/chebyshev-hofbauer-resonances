{
 "cells": [
  {
   "cell_type": "markdown",
   "id": "522a20b8",
   "metadata": {},
   "source": [
    "# Hofbauer Extension"
   ]
  },
  {
   "cell_type": "code",
   "execution_count": 1,
   "id": "aaa386a2",
   "metadata": {},
   "outputs": [],
   "source": [
    "import numpy as np\n",
    "from numpy.linalg import eig\n",
    "import matplotlib.pyplot as plt\n",
    "import networkx as nx\n",
    "import pandas as pd\n",
    "from scipy.sparse import csr_matrix\n",
    "from scipy.sparse.linalg import eigs\n",
    "import warnings\n",
    "import time"
   ]
  },
  {
   "cell_type": "markdown",
   "id": "62c4dc93",
   "metadata": {},
   "source": [
    "### Defining range functions"
   ]
  },
  {
   "cell_type": "code",
   "execution_count": 2,
   "id": "c935aa14",
   "metadata": {},
   "outputs": [],
   "source": [
    "def f(a, x):\n",
    "    '''\n",
    "    Our 'tent map' for the dynamical system.\n",
    "    a is a parameter that can be adjusted to test for different maps.\n",
    "    '''\n",
    "    return round(a * np.min([x, 1-x]), 5)\n",
    "\n",
    "c_0 = 0.5\n",
    "\n",
    "def f_L(a, x):\n",
    "    '''\n",
    "    The left branch of the tent map.\n",
    "    '''\n",
    "    if x >= 0 and x <= c_0:\n",
    "        return round(a * x, 8)\n",
    "    else:\n",
    "        return [None]\n",
    "\n",
    "def f_R(a, x):\n",
    "    '''\n",
    "    The right branch of the tent map.\n",
    "    '''\n",
    "    if x >= c_0 and x <= 1:\n",
    "        return round(a * (1-x), 8)\n",
    "    else:\n",
    "        return [None]\n",
    "    \n",
    "def range_f_L(a, interval):\n",
    "    '''\n",
    "    Finds the range of values produced by the left branch of the tent map on a given interval.\n",
    "    '''\n",
    "    if interval[0] > c_0:\n",
    "        return [None]\n",
    "    if interval[1] > c_0:\n",
    "        return [f_L(a, interval[0]), f_L(a, c_0)]\n",
    "    else:\n",
    "        return [f_L(a, interval[0]), f_L(a, interval[1])]\n",
    "    \n",
    "def range_f_R(a, interval):\n",
    "    '''\n",
    "    Finds the range of values produced by the right branch of the tent map on a given interval.\n",
    "    '''\n",
    "    if interval[1] < c_0:\n",
    "        return [None]\n",
    "    if interval[0] < c_0:\n",
    "        return sorted([f_R(a, c_0), f_R(a, interval[1])])\n",
    "    else:\n",
    "        return sorted([f_R(a, interval[0]), f_R(a, interval[1])])"
   ]
  },
  {
   "cell_type": "markdown",
   "id": "bee8cf91",
   "metadata": {},
   "source": [
    "### Plotting tent maps"
   ]
  },
  {
   "cell_type": "code",
   "execution_count": 14,
   "id": "e515fa1e",
   "metadata": {},
   "outputs": [
    {
     "data": {
      "text/plain": [
       "[<matplotlib.lines.Line2D at 0x15c0098d0>]"
      ]
     },
     "execution_count": 14,
     "metadata": {},
     "output_type": "execute_result"
    },
    {
     "data": {
      "image/png": "[encoded data removed]",
      "text/plain": [
       "<Figure size 640x480 with 1 Axes>"
      ]
     },
     "metadata": {},
     "output_type": "display_data"
    }
   ],
   "source": [
    "a = 1.8\n",
    "\n",
    "\n",
    "x = np.linspace(0, 1, 500)\n",
    "\n",
    "y = []\n",
    "for i in x:\n",
    "    y.append(f(a, i))\n",
    "\n",
    "    \n",
    "plt.xlim(0,1)\n",
    "plt.ylim(0,1)\n",
    "plt.plot(x, y)"
   ]
  },
  {
   "cell_type": "markdown",
   "id": "4b47d34d",
   "metadata": {},
   "source": [
    "### Manually creating directed graphs"
   ]
  },
  {
   "cell_type": "code",
   "execution_count": 50,
   "id": "d15f8ed9",
   "metadata": {},
   "outputs": [
    {
     "name": "stdout",
     "output_type": "stream",
     "text": [
      "[0.0, 0.1805]\n",
      "[None]\n"
     ]
    }
   ],
   "source": [
    "a = 1.9\n",
    "print(range_f_L(a, [0, 0.095]))\n",
    "print(range_f_R(a, [0, 0.095]))"
   ]
  },
  {
   "cell_type": "markdown",
   "id": "95f94132",
   "metadata": {},
   "source": [
    "### Functions for general graphs"
   ]
  },
  {
   "cell_type": "code",
   "execution_count": 28,
   "id": "a252ba61",
   "metadata": {},
   "outputs": [],
   "source": [
    "def create_digraph(a, limit):\n",
    "    '''\n",
    "    Creates and stores a directed graph holding information about Hofbauer extension.\n",
    "    a: float, between 0 and 1 describes the tent map\n",
    "    lim: int, the limit of the number of iterations\n",
    "    '''\n",
    "    global G\n",
    "    G = nx.DiGraph()\n",
    "    recursive_create_node(G, 0, limit, [0.0,1.0], a)\n",
    "    \n",
    "def recursive_create_node(G, counter, limit, interval, a):\n",
    "\n",
    "    if counter >= limit:\n",
    "        return # End recursion\n",
    "    \n",
    "    interval_tuple = tuple(interval)\n",
    "\n",
    "    r_l = range_f_L(a, interval) # Compute range of left branch on given interval\n",
    "    r_l_tuple = tuple(r_l) # Convert list to a tuple for comparison to nodes\n",
    "\n",
    "    r_r = range_f_R(a, interval) # Compute range of right branch on given interval\n",
    "    r_r_tuple = tuple(r_r) # Convert list to a tuple for comparison to nodes\n",
    " \n",
    "    if r_l == r_r: # Branches map to the same range\n",
    "        if r_l_tuple not in G.nodes:\n",
    "            G.add_node(r_l_tuple) # Create node for this range\n",
    "        if (interval_tuple, r_l_tuple) not in G.edges:\n",
    "            G.add_edge(interval_tuple, r_l_tuple, label = 'LR') # Create edge with label indicating both branches map here\n",
    "        recursive_create_node(G, counter+1, limit, r_l, a) # Recursive call with this range as new interval\n",
    "    \n",
    "    else:\n",
    "        if r_l != [None]: # Within domain of left branch\n",
    "            if r_l_tuple not in G.nodes: \n",
    "                G.add_node(r_l_tuple) # Create node for the range of left branch for this domain\n",
    "            if (interval_tuple, r_l_tuple) not in G.edges:\n",
    "                G.add_edge(interval_tuple, r_l_tuple, label = 'L') # Create edge with left label\n",
    "            recursive_create_node(G, counter+1, limit, r_l, a) # Recursive call with this range as new interval\n",
    "            \n",
    "        if r_r != [None]: # Within domain of right branch\n",
    "            if r_r_tuple not in G.nodes:\n",
    "                G.add_node(r_r_tuple) # Create node for the range of right branch for this domain\n",
    "            if (interval_tuple, r_r_tuple) not in G.edges:\n",
    "                G.add_edge(interval_tuple, r_r_tuple, label = 'R')  # Create edge with right label\n",
    "            recursive_create_node(G, counter+1, limit, r_r, a) # Recursive call with this range as new interval\n"
   ]
  },
  {
   "cell_type": "markdown",
   "id": "ca9b52a0",
   "metadata": {},
   "source": [
    "### Creating a DiGraph for particular $a$"
   ]
  },
  {
   "cell_type": "code",
   "execution_count": 47,
   "id": "309055a0",
   "metadata": {},
   "outputs": [
    {
     "data": {
      "image/png": "[encoded data removed]",
      "text/plain": [
       "<Figure size 640x480 with 1 Axes>"
      ]
     },
     "metadata": {},
     "output_type": "display_data"
    }
   ],
   "source": [
    "a = 1.9\n",
    "limit = 5\n",
    "create_digraph(a, limit)\n",
    "\n",
    "nodes_list = list(G.nodes)\n",
    "if len(nodes_list) >= 2:\n",
    "    nodes_list[0], nodes_list[1] = nodes_list[1], nodes_list[0]\n",
    "\n",
    "edges_list = []\n",
    "for u, v, attr in G.edges(data=True):\n",
    "    edges_list.append([u,v,attr])\n",
    "\n",
    "# Visualization\n",
    "edge_colors = [\n",
    "    \"red\" if attr.get(\"label\") == \"R\" else \n",
    "    \"green\" if attr.get(\"label\") == \"L\" else \n",
    "    \"blue\" for u, v, attr in G.edges(data=True)\n",
    "]\n",
    "\n",
    "pos = nx.shell_layout(G)  # Layout for the graph\n",
    "nx.draw(G, pos, with_labels=True,\n",
    "        node_color=\"lightblue\", edge_color=edge_colors, \n",
    "        node_size=2000, font_size=10, font_weight=\"bold\")\n",
    "edge_labels = nx.get_edge_attributes(G, \"label\")  # Extract edge labels\n",
    "\n",
    "plt.title(f\"DiGraph with a = {a}\")\n",
    "plt.show()"
   ]
  },
  {
   "cell_type": "markdown",
   "id": "1fd0d365",
   "metadata": {},
   "source": [
    "### Adjacency matrix for above DiGraph"
   ]
  },
  {
   "cell_type": "code",
   "execution_count": 45,
   "id": "1c8747b1",
   "metadata": {
    "scrolled": false
   },
   "outputs": [
    {
     "name": "stdout",
     "output_type": "stream",
     "text": [
      "Adjacency Matrix as DataFrame:\n",
      "                       (0.0, 1.0)  (0.0, 0.95)  (0.095, 0.95)  (0.1805, 0.95)  \\\n",
      "(0.0, 1.0)                      0            0              0               0   \n",
      "(0.0, 0.95)                     2            1              0               0   \n",
      "(0.095, 0.95)                   0            1              1               1   \n",
      "(0.1805, 0.95)                  0            0              1               0   \n",
      "(0.34295, 0.95)                 0            0              0               1   \n",
      "(0.651605, 0.95)                0            0              0               0   \n",
      "(0.095, 0.6619505)              0            0              0               0   \n",
      "(0.64229405, 0.95)              0            0              0               0   \n",
      "(0.095, 0.67964131)             0            0              0               0   \n",
      "(0.60868151, 0.95)              0            0              0               0   \n",
      "(0.095, 0.74350513)             0            0              0               0   \n",
      "(0.48734025, 0.95)              0            0              0               0   \n",
      "(0.92594647, 0.95)              0            0              0               0   \n",
      "(0.095, 0.14070171)             0            0              0               0   \n",
      "(0.1805, 0.26733325)            0            0              0               0   \n",
      "(0.34295, 0.50793318)           0            0              0               0   \n",
      "\n",
      "                       (0.34295, 0.95)  (0.651605, 0.95)  (0.095, 0.6619505)  \\\n",
      "(0.0, 1.0)                           0                 0                   0   \n",
      "(0.0, 0.95)                          0                 0                   0   \n",
      "(0.095, 0.95)                        1                 0                   0   \n",
      "(0.1805, 0.95)                       0                 0                   1   \n",
      "(0.34295, 0.95)                      0                 0                   0   \n",
      "(0.651605, 0.95)                     1                 0                   0   \n",
      "(0.095, 0.6619505)                   0                 1                   0   \n",
      "(0.64229405, 0.95)                   0                 0                   1   \n",
      "(0.095, 0.67964131)                  0                 0                   0   \n",
      "(0.60868151, 0.95)                   0                 0                   0   \n",
      "(0.095, 0.74350513)                  0                 0                   0   \n",
      "(0.48734025, 0.95)                   0                 0                   0   \n",
      "(0.92594647, 0.95)                   0                 0                   0   \n",
      "(0.095, 0.14070171)                  0                 0                   0   \n",
      "(0.1805, 0.26733325)                 0                 0                   0   \n",
      "(0.34295, 0.50793318)                0                 0                   0   \n",
      "\n",
      "                       (0.64229405, 0.95)  (0.095, 0.67964131)  \\\n",
      "(0.0, 1.0)                              0                    0   \n",
      "(0.0, 0.95)                             0                    0   \n",
      "(0.095, 0.95)                           0                    0   \n",
      "(0.1805, 0.95)                          0                    1   \n",
      "(0.34295, 0.95)                         0                    0   \n",
      "(0.651605, 0.95)                        0                    0   \n",
      "(0.095, 0.6619505)                      0                    0   \n",
      "(0.64229405, 0.95)                      0                    0   \n",
      "(0.095, 0.67964131)                     1                    0   \n",
      "(0.60868151, 0.95)                      0                    1   \n",
      "(0.095, 0.74350513)                     0                    0   \n",
      "(0.48734025, 0.95)                      0                    0   \n",
      "(0.92594647, 0.95)                      0                    0   \n",
      "(0.095, 0.14070171)                     0                    0   \n",
      "(0.1805, 0.26733325)                    0                    0   \n",
      "(0.34295, 0.50793318)                   0                    0   \n",
      "\n",
      "                       (0.60868151, 0.95)  (0.095, 0.74350513)  \\\n",
      "(0.0, 1.0)                              0                    0   \n",
      "(0.0, 0.95)                             0                    0   \n",
      "(0.095, 0.95)                           0                    0   \n",
      "(0.1805, 0.95)                          0                    1   \n",
      "(0.34295, 0.95)                         0                    0   \n",
      "(0.651605, 0.95)                        0                    0   \n",
      "(0.095, 0.6619505)                      0                    0   \n",
      "(0.64229405, 0.95)                      0                    0   \n",
      "(0.095, 0.67964131)                     0                    0   \n",
      "(0.60868151, 0.95)                      0                    0   \n",
      "(0.095, 0.74350513)                     1                    0   \n",
      "(0.48734025, 0.95)                      0                    1   \n",
      "(0.92594647, 0.95)                      0                    0   \n",
      "(0.095, 0.14070171)                     0                    0   \n",
      "(0.1805, 0.26733325)                    0                    0   \n",
      "(0.34295, 0.50793318)                   0                    0   \n",
      "\n",
      "                       (0.48734025, 0.95)  (0.92594647, 0.95)  \\\n",
      "(0.0, 1.0)                              0                   0   \n",
      "(0.0, 0.95)                             0                   0   \n",
      "(0.095, 0.95)                           1                   0   \n",
      "(0.1805, 0.95)                          0                   0   \n",
      "(0.34295, 0.95)                         0                   0   \n",
      "(0.651605, 0.95)                        0                   0   \n",
      "(0.095, 0.6619505)                      0                   0   \n",
      "(0.64229405, 0.95)                      0                   0   \n",
      "(0.095, 0.67964131)                     0                   0   \n",
      "(0.60868151, 0.95)                      0                   0   \n",
      "(0.095, 0.74350513)                     0                   0   \n",
      "(0.48734025, 0.95)                      0                   0   \n",
      "(0.92594647, 0.95)                      1                   0   \n",
      "(0.095, 0.14070171)                     0                   1   \n",
      "(0.1805, 0.26733325)                    0                   0   \n",
      "(0.34295, 0.50793318)                   0                   0   \n",
      "\n",
      "                       (0.095, 0.14070171)  (0.1805, 0.26733325)  \\\n",
      "(0.0, 1.0)                               0                     0   \n",
      "(0.0, 0.95)                              0                     0   \n",
      "(0.095, 0.95)                            0                     0   \n",
      "(0.1805, 0.95)                           0                     0   \n",
      "(0.34295, 0.95)                          0                     0   \n",
      "(0.651605, 0.95)                         0                     0   \n",
      "(0.095, 0.6619505)                       0                     0   \n",
      "(0.64229405, 0.95)                       0                     0   \n",
      "(0.095, 0.67964131)                      0                     0   \n",
      "(0.60868151, 0.95)                       0                     0   \n",
      "(0.095, 0.74350513)                      0                     0   \n",
      "(0.48734025, 0.95)                       0                     0   \n",
      "(0.92594647, 0.95)                       0                     0   \n",
      "(0.095, 0.14070171)                      0                     0   \n",
      "(0.1805, 0.26733325)                     1                     0   \n",
      "(0.34295, 0.50793318)                    0                     1   \n",
      "\n",
      "                       (0.34295, 0.50793318)  \n",
      "(0.0, 1.0)                                 0  \n",
      "(0.0, 0.95)                                0  \n",
      "(0.095, 0.95)                              0  \n",
      "(0.1805, 0.95)                             0  \n",
      "(0.34295, 0.95)                            0  \n",
      "(0.651605, 0.95)                           0  \n",
      "(0.095, 0.6619505)                         0  \n",
      "(0.64229405, 0.95)                         0  \n",
      "(0.095, 0.67964131)                        0  \n",
      "(0.60868151, 0.95)                         0  \n",
      "(0.095, 0.74350513)                        0  \n",
      "(0.48734025, 0.95)                         0  \n",
      "(0.92594647, 0.95)                         0  \n",
      "(0.095, 0.14070171)                        0  \n",
      "(0.1805, 0.26733325)                       0  \n",
      "(0.34295, 0.50793318)                      0  \n",
      "\n",
      "Eigenvalues of Adjacency Matrix:\n",
      "[ 0.        +0.j          0.        +0.j          0.        +0.j\n",
      "  0.        +0.j          1.89994894+0.j         -1.24265445+0.j\n",
      " -0.6330282 +0.70756825j -0.6330282 -0.70756825j -0.24528318+0.9839558j\n",
      " -0.24528318-0.9839558j   0.31138613+0.77930409j  0.31138613-0.77930409j\n",
      "  0.73827801+0.32212671j  0.73827801-0.32212671j  1.        +0.j\n",
      "  0.        +0.j        ]\n",
      "(1.8999489426287002+0j)\n"
     ]
    }
   ],
   "source": [
    "df = pd.DataFrame(index=nodes_list, columns=nodes_list)\n",
    "df.fillna(0, inplace=True) # Create data frame of all zeroes with dimension equal to number of nodes\n",
    "\n",
    "for edge in edges_list:\n",
    "    node1 = edge[0]\n",
    "    node2 = edge[1]\n",
    "    label = edge[2]\n",
    "    if label == {'label': 'LR'}:\n",
    "        df.at[node2, node1] = 2 # If both branches map we have 2 edges between these nodes\n",
    "    else:\n",
    "        df.at[node2, node1] = 1 # Store 1 indicating there is an edge between these nodes\n",
    "\n",
    "print(\"Adjacency Matrix as DataFrame:\")\n",
    "print(df)\n",
    "\n",
    "normal_matrix = np.asmatrix(df.values)\n",
    "w,v = eig(normal_matrix)\n",
    "print(\"\\nEigenvalues of Adjacency Matrix:\")\n",
    "print(w)\n",
    "print(np.max(w))"
   ]
  },
  {
   "cell_type": "markdown",
   "id": "51b9ad60",
   "metadata": {},
   "source": [
    "### Sparse Adjacency matrix for above"
   ]
  },
  {
   "cell_type": "code",
   "execution_count": 46,
   "id": "7462801e",
   "metadata": {},
   "outputs": [
    {
     "name": "stdout",
     "output_type": "stream",
     "text": [
      "Sparse matrix\n",
      "  (1, 0)\t2.0\n",
      "  (1, 1)\t1.0\n",
      "  (2, 1)\t1.0\n",
      "  (2, 2)\t1.0\n",
      "  (2, 3)\t1.0\n",
      "  (2, 4)\t1.0\n",
      "  (2, 11)\t1.0\n",
      "  (3, 2)\t1.0\n",
      "  (3, 6)\t1.0\n",
      "  (3, 8)\t1.0\n",
      "  (3, 10)\t1.0\n",
      "  (4, 3)\t1.0\n",
      "  (5, 4)\t1.0\n",
      "  (6, 5)\t1.0\n",
      "  (7, 6)\t1.0\n",
      "  (8, 7)\t1.0\n",
      "  (9, 8)\t1.0\n",
      "  (10, 9)\t1.0\n",
      "  (11, 10)\t1.0\n",
      "  (12, 11)\t1.0\n",
      "  (13, 12)\t1.0\n",
      "  (14, 13)\t1.0\n",
      "  (15, 14)\t1.0\n",
      "\n",
      "Maximum eigenvalue:\n",
      "(1.8999489426287015+0j)\n"
     ]
    }
   ],
   "source": [
    "### Sparse matrix form\n",
    "sparse_matrix = csr_matrix(df.values)\n",
    "sparse_matrix = sparse_matrix.asfptype()\n",
    "vals, vecs = eigs(sparse_matrix)\n",
    "\n",
    "\n",
    "print(\"Sparse matrix\")\n",
    "print(sparse_matrix)\n",
    "print(\"\\nMaximum eigenvalue:\")\n",
    "print(np.max(vals))"
   ]
  },
  {
   "cell_type": "markdown",
   "id": "b1aff35f",
   "metadata": {},
   "source": [
    "### Left and Right Adjacency Matricies for above"
   ]
  },
  {
   "cell_type": "code",
   "execution_count": 8,
   "id": "a72322ae",
   "metadata": {
    "scrolled": false
   },
   "outputs": [
    {
     "name": "stdout",
     "output_type": "stream",
     "text": [
      "Left Adjacency Matrix as DataFrame:\n",
      "                (0.0, 1.0)  (0.0, 0.8)  (0.32, 0.8)  (0.512, 0.8)  \\\n",
      "(0.0, 1.0)               0           0            0             0   \n",
      "(0.0, 0.8)               1           1            0             0   \n",
      "(0.32, 0.8)              0           0            0             0   \n",
      "(0.512, 0.8)             0           0            1             0   \n",
      "(0.32, 0.7808)           0           0            0             0   \n",
      "(0.35072, 0.8)           0           0            0             0   \n",
      "\n",
      "                (0.32, 0.7808)  (0.35072, 0.8)  \n",
      "(0.0, 1.0)                   0               0  \n",
      "(0.0, 0.8)                   0               0  \n",
      "(0.32, 0.8)                  0               0  \n",
      "(0.512, 0.8)                 1               0  \n",
      "(0.32, 0.7808)               0               0  \n",
      "(0.35072, 0.8)               0               0  \n",
      "\n",
      "\n",
      "Right Adjacency Matrix as DataFrame:\n",
      "                (0.0, 1.0)  (0.0, 0.8)  (0.32, 0.8)  (0.512, 0.8)  \\\n",
      "(0.0, 1.0)               0           0            0             0   \n",
      "(0.0, 0.8)               1           0            0             0   \n",
      "(0.32, 0.8)              0           1            1             0   \n",
      "(0.512, 0.8)             0           0            0             0   \n",
      "(0.32, 0.7808)           0           0            0             1   \n",
      "(0.35072, 0.8)           0           0            0             0   \n",
      "\n",
      "                (0.32, 0.7808)  (0.35072, 0.8)  \n",
      "(0.0, 1.0)                   0               0  \n",
      "(0.0, 0.8)                   0               0  \n",
      "(0.32, 0.8)                  0               0  \n",
      "(0.512, 0.8)                 0               0  \n",
      "(0.32, 0.7808)               0               0  \n",
      "(0.35072, 0.8)               1               0  \n"
     ]
    }
   ],
   "source": [
    "df_left = pd.DataFrame(index=nodes_list, columns=nodes_list)\n",
    "df_right = pd.DataFrame(index=nodes_list, columns=nodes_list)\n",
    "df_left.fillna(0, inplace=True)\n",
    "df_right.fillna(0, inplace=True)\n",
    "\n",
    "\n",
    "for edge in edges_list:\n",
    "    node1 = edge[0]\n",
    "    node2 = edge[1]\n",
    "    label = edge[2]\n",
    "    if label == {'label': 'L'}:\n",
    "        df_left.at[node2, node1] = 1\n",
    "    elif label == {'label': 'R'}:\n",
    "        df_right.at[node2, node1] = 1\n",
    "    else:\n",
    "        df_left.at[node2, node1] = 1\n",
    "        df_right.at[node2, node1] = 1\n",
    "\n",
    "        \n",
    "print(\"Left Adjacency Matrix as DataFrame:\")\n",
    "print(df_left)\n",
    "\n",
    "print(\"\\n\\nRight Adjacency Matrix as DataFrame:\")\n",
    "print(df_right)"
   ]
  },
  {
   "cell_type": "markdown",
   "id": "8d24665a",
   "metadata": {},
   "source": [
    "### Graphing a vs largest eigenvalue of adjancency matrix"
   ]
  },
  {
   "cell_type": "code",
   "execution_count": 33,
   "id": "3a140f22",
   "metadata": {},
   "outputs": [
    {
     "name": "stdout",
     "output_type": "stream",
     "text": [
      "TIME: 9.157854080200195\n"
     ]
    },
    {
     "data": {
      "image/png": "[encoded data removed]",
      "text/plain": [
       "<Figure size 640x480 with 1 Axes>"
      ]
     },
     "metadata": {},
     "output_type": "display_data"
    }
   ],
   "source": [
    "start_time = time.time()  # Start the timer\n",
    "warnings.filterwarnings(\"ignore\")\n",
    "\n",
    "x = np.linspace(1.001, 1.999, 100)\n",
    "y =[]\n",
    "\n",
    "for a in x:\n",
    "    limit = 17\n",
    "    G.clear()\n",
    "    create_digraph(a, limit)\n",
    "\n",
    "    nodes_list = list(G.nodes)\n",
    "    nodes_list[0], nodes_list[1] = nodes_list[1], nodes_list[0]\n",
    "\n",
    "    edges_list = []\n",
    "    for u, v, attr in G.edges(data=True):\n",
    "        edges_list.append([u,v,attr])\n",
    "\n",
    "    df = pd.DataFrame(index=nodes_list, columns=nodes_list)\n",
    "    df.fillna(0, inplace=True)\n",
    "\n",
    "    for edge in edges_list:\n",
    "        node1 = edge[0]\n",
    "        node2 = edge[1]\n",
    "        label = edge[2]\n",
    "        if label == {'label': 'LR'}:\n",
    "            df.at[node2, node1] = 2\n",
    "        else:\n",
    "            df.at[node2, node1] = 1\n",
    "\n",
    "    #matrix = np.asmatrix(df.values)\n",
    "    #w,v = eig(matrix)\n",
    "    #max_eigval = np.max(w)\n",
    "    \n",
    "    sparse_matrix = csr_matrix(df.values)\n",
    "    sparse_matrix = sparse_matrix.asfptype()\n",
    "    vals, vecs = eigs(sparse_matrix)\n",
    "    max_eigval = np.max(vals)\n",
    "    \n",
    "    y.append(max_eigval)\n",
    "    \n",
    "plt.title(\"Largest eigenvalue of adjacency matrix against a\")\n",
    "plt.plot(x, y)\n",
    "\n",
    "end_time = time.time()  # End the timer\n",
    "print(f\"TIME: {end_time-start_time}\")"
   ]
  }
 ],
 "metadata": {
  "kernelspec": {
   "display_name": "Python 3 (ipykernel)",
   "language": "python",
   "name": "python3"
  },
  "language_info": {
   "codemirror_mode": {
    "name": "ipython",
    "version": 3
   },
   "file_extension": ".py",
   "mimetype": "text/x-python",
   "name": "python",
   "nbconvert_exporter": "python",
   "pygments_lexer": "ipython3",
   "version": "3.11.5"
  }
 },
 "nbformat": 4,
 "nbformat_minor": 5
}
