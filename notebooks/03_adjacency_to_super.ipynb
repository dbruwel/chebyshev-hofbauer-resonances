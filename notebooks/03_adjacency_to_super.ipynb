{
 "cells": [
  {
   "cell_type": "code",
   "execution_count": 3,
   "metadata": {},
   "outputs": [
    {
     "name": "stdout",
     "output_type": "stream",
     "text": [
      "c:\\Users\\dbruw\\DENR3901\\DENR3901\n"
     ]
    }
   ],
   "source": [
    "%cd ..\n",
    "\n",
    "import numpy as np\n",
    "from scripts.operator_approx import cheb_op_ap\n",
    "from scripts.adjacency_to_super import create_super_adjacency, generate_opp_approx\n",
    "import matplotlib.pyplot as plt"
   ]
  },
  {
   "cell_type": "code",
   "execution_count": 24,
   "metadata": {},
   "outputs": [],
   "source": [
    "alpha = 2\n",
    "\n",
    "def tent_map(x):\n",
    "    return alpha*np.minimum(x, 1-x)\n",
    "\n",
    "# This is only the left branch. \n",
    "def L_left(phi):\n",
    "    return lambda x: np.where((x >= 0) & (x <= alpha/2), (1/alpha)*(phi(x/alpha)), np.nan)\n",
    "\n",
    "# This is only the right branch. \n",
    "def L_right(phi):\n",
    "    return lambda x: np.where((x >= 0) & (x <= alpha/2), (1/alpha)*(phi(1-x/alpha)), np.nan)"
   ]
  },
  {
   "cell_type": "code",
   "execution_count": 25,
   "metadata": {},
   "outputs": [],
   "source": [
    "# just sample data. Comes from the left branch of the tent map for alpha=1.9. Just coppied over for now.\n",
    "\n",
    "domains = [\n",
    "    (0.0, 1),\n",
    "    (0.0, 0.95),\n",
    "    (0.095, 0.95),\n",
    "    (0.1805, 0.95),\n",
    "    (0.34295, 0.95),\n",
    "    (0.651605, 0.95)\n",
    "]\n",
    "\n",
    "left_matrix = np.array(\n",
    "    [[0, 0, 0, 0, 0, 0],\n",
    "    [1, 1, 0, 0, 0, 0],\n",
    "    [0, 0, 0, 0, 0, 0],\n",
    "    [0, 0, 1, 0, 0, 0],\n",
    "    [0, 0, 0, 1, 0, 0],\n",
    "    [0, 0, 0, 0, 1, 0]]\n",
    ")\n",
    "\n",
    "right_matrix = np.array(\n",
    "    [[0, 0, 0, 0, 0, 0],\n",
    "    [1, 0, 0, 0, 0, 0],\n",
    "    [0, 1, 1, 1, 1, 0],\n",
    "    [0, 0, 0, 0, 0, 0],\n",
    "    [0, 0, 0, 0, 0, 0],\n",
    "    [0, 0, 0, 0, 0, 0]]\n",
    ")\n",
    "\n",
    "# sample for a=2\n",
    "domains = [(0, 1)]\n",
    "left_matrix = np.array([[1]])\n",
    "right_matrix = np.array([[1]])"
   ]
  },
  {
   "cell_type": "code",
   "execution_count": 26,
   "metadata": {},
   "outputs": [],
   "source": [
    "# Takes the adjacecny matrix, the list of domains, and the trasnfer oprator and create the super adjacency matrix.\n",
    "\n",
    "K = N = 50\n",
    "\n",
    "super_adjacency_matrix_left = create_super_adjacency(left_matrix, domains, L_left, K, N)\n",
    "super_adjacency_matrix_right = create_super_adjacency(right_matrix, domains, L_right, K, N)\n",
    "\n",
    "super_adjacency_matrix = super_adjacency_matrix_left + super_adjacency_matrix_right"
   ]
  },
  {
   "cell_type": "code",
   "execution_count": 27,
   "metadata": {},
   "outputs": [],
   "source": [
    "evals = np.linalg.eigvals(super_adjacency_matrix)"
   ]
  },
  {
   "cell_type": "code",
   "execution_count": 28,
   "metadata": {},
   "outputs": [],
   "source": [
    "def L(phi):\n",
    "    return lambda x: np.where((x >= 0) & (x <= alpha/2), (1/alpha)*(phi(x/alpha) + phi(1-x/alpha)), np.nan)"
   ]
  },
  {
   "cell_type": "code",
   "execution_count": 29,
   "metadata": {},
   "outputs": [],
   "source": [
    "L_hat = cheb_op_ap(L, 500, 500, (0, 1), (0, alpha/2)).T\n",
    "evals_worse = np.linalg.eigvals(L_hat)"
   ]
  },
  {
   "cell_type": "code",
   "execution_count": 39,
   "metadata": {},
   "outputs": [
    {
     "data": {
      "image/png": "[encoded data removed]",
      "text/plain": [
       "<Figure size 640x480 with 1 Axes>"
      ]
     },
     "metadata": {},
     "output_type": "display_data"
    }
   ],
   "source": [
    "plt.scatter(np.real(evals), np.imag(evals))\n",
    "# These are the true eigenvalues for alpha=2.\n",
    "plt.axvline(1)\n",
    "plt.axvline(1/4)\n",
    "plt.axvline((1/4)**2)\n",
    "plt.axvline((1/4)**3)\n",
    "plt.show()"
   ]
  },
  {
   "cell_type": "code",
   "execution_count": null,
   "metadata": {},
   "outputs": [],
   "source": []
  }
 ],
 "metadata": {
  "kernelspec": {
   "display_name": "denr3901",
   "language": "python",
   "name": "python3"
  },
  "language_info": {
   "codemirror_mode": {
    "name": "ipython",
    "version": 3
   },
   "file_extension": ".py",
   "mimetype": "text/x-python",
   "name": "python",
   "nbconvert_exporter": "python",
   "pygments_lexer": "ipython3",
   "version": "3.11.11"
  }
 },
 "nbformat": 4,
 "nbformat_minor": 2
}
