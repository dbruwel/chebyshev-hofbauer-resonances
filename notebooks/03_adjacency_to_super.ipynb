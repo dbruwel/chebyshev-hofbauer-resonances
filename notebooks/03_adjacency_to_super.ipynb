{
 "cells": [
  {
   "cell_type": "code",
   "execution_count": 28,
   "metadata": {},
   "outputs": [
    {
     "name": "stdout",
     "output_type": "stream",
     "text": [
      "c:\\Users\\dbruw\n"
     ]
    }
   ],
   "source": [
    "%cd ..\n",
    "\n",
    "import numpy as np\n",
    "from scripts.operator_approx import cheb_op_ap\n",
    "from scripts.adjacency_to_super import create_super_adjacency"
   ]
  },
  {
   "cell_type": "code",
   "execution_count": 29,
   "metadata": {},
   "outputs": [],
   "source": [
    "alpha = 1.8\n",
    "\n",
    "def tent_map(x):\n",
    "    return alpha*np.minimum(x, 1-x)\n",
    "\n",
    "# This is only the left branch. \n",
    "def L(phi):\n",
    "    return lambda x: (1/alpha)*(phi(x/alpha)) * (x <= alpha/2)"
   ]
  },
  {
   "cell_type": "code",
   "execution_count": 30,
   "metadata": {},
   "outputs": [],
   "source": [
    "# just sample data. Comes from the left branch of the tent map for alpha=1.8. Just coppied over for now.\n",
    "\n",
    "domains = [\n",
    "    (0.0, 0.5),\n",
    "    (0.0, 0.95),\n",
    "    (0.095, 0.95),\n",
    "    (0.1805, 0.95),\n",
    "    (0.34295, 0.95),\n",
    "    (0.651605, 0.95)\n",
    "]\n",
    "\n",
    "matrix = np.array(\n",
    "    [[0, 0, 0, 0, 0, 0],\n",
    "    [1, 1, 0, 0, 0, 0],\n",
    "    [0, 0, 0, 0, 0, 0],\n",
    "    [0, 0, 1, 0, 0, 0],\n",
    "    [0, 0, 0, 1, 0, 0],\n",
    "    [0, 0, 0, 0, 1, 0]]\n",
    ")"
   ]
  },
  {
   "cell_type": "code",
   "execution_count": 38,
   "metadata": {},
   "outputs": [],
   "source": [
    "# Takes the adjacecny matrix, the list of domains, and the trasnfer oprator and create the super adjacency matrix.\n",
    "\n",
    "K = N = 50\n",
    "\n",
    "super_adjacency_matrix = create_super_adjacency(matrix, domains, L, K, N)"
   ]
  }
 ],
 "metadata": {
  "kernelspec": {
   "display_name": "denr3901",
   "language": "python",
   "name": "python3"
  },
  "language_info": {
   "codemirror_mode": {
    "name": "ipython",
    "version": 3
   },
   "file_extension": ".py",
   "mimetype": "text/x-python",
   "name": "python",
   "nbconvert_exporter": "python",
   "pygments_lexer": "ipython3",
   "version": "3.11.11"
  }
 },
 "nbformat": 4,
 "nbformat_minor": 2
}
