{
 "cells": [
  {
   "cell_type": "code",
   "execution_count": 3,
   "metadata": {},
   "outputs": [
    {
     "name": "stdout",
     "output_type": "stream",
     "text": [
      "c:\\Users\\dbruw\\DENR3901\\DENR3901\n"
     ]
    }
   ],
   "source": [
    "%cd ..\n",
    "\n",
    "import numpy as np\n",
    "from scripts.operator_approx import cheb_op_ap\n",
    "from scripts.adjacency_to_super import create_super_adjacency, generate_opp_approx\n",
    "import matplotlib.pyplot as plt\n",
    "import pandas as pd\n",
    "from scripts.ulams_method import ulams_method"
   ]
  },
  {
   "cell_type": "code",
   "execution_count": 8,
   "metadata": {},
   "outputs": [],
   "source": [
    "alpha = 1.9\n",
    "\n",
    "def tent_map(x):\n",
    "    return alpha*np.minimum(x, 1-x)\n",
    "\n",
    "# This is only the left branch. \n",
    "def L_left(phi):\n",
    "    return lambda x: np.where((x >= 0) & (x <= alpha/2), (1/alpha)*(phi(x/alpha)), np.nan)\n",
    "\n",
    "# This is only the right branch. \n",
    "def L_right(phi):\n",
    "    return lambda x: np.where((x >= 0) & (x <= alpha/2), (1/alpha)*(phi(1-x/alpha)), np.nan)\n",
    "\n",
    "# This is the full operator.\n",
    "def L(phi):\n",
    "    return lambda x: np.where((x >= 0) & (x <= alpha/2), (1/alpha)*(phi(x/alpha) + phi(1-x/alpha)), 0)"
   ]
  },
  {
   "cell_type": "code",
   "execution_count": 5,
   "metadata": {},
   "outputs": [],
   "source": [
    "# just sample data. Comes from the left branch of the tent map for alpha=1.9. Just coppied over for now.\n",
    "\n",
    "domains = [\n",
    "    (0.0, 1.0),\n",
    "    (0.0, 0.95),\n",
    "    (0.095, 0.95),\n",
    "    (0.1805, 0.95),\n",
    "    (0.34295, 0.95),\n",
    "    (0.651605, 0.95),\n",
    "    (0.095, 0.6619505),\n",
    "    (0.64229405, 0.95),\n",
    "    (0.095, 0.67964131),\n",
    "    (0.60868151, 0.95),\n",
    "    (0.095, 0.74350513),\n",
    "    (0.48734025, 0.95),\n",
    "    (0.92594647, 0.95),\n",
    "    (0.095, 0.14070171),\n",
    "    (0.1805, 0.26733325),\n",
    "    (0.34295, 0.50793318)\n",
    "]\n",
    "\n",
    "left_matrix = np.array(\n",
    "    [[0, 0, 0, 0, 0, 0, 0, 0, 0, 0, 0, 0, 0, 0, 0, 0],\n",
    "    [1, 1, 0, 0, 0, 0, 0, 0, 0, 0, 0, 0, 0, 0, 0, 0],\n",
    "    [0, 0, 0, 0, 0, 0, 0, 0, 0, 0, 0, 0, 0, 0, 0, 0],\n",
    "    [0, 0, 1, 0, 0, 0, 1, 0, 1, 0, 1, 0, 0, 0, 0, 0],\n",
    "    [0, 0, 0, 1, 0, 0, 0, 0, 0, 0, 0, 0, 0, 0, 0, 0],\n",
    "    [0, 0, 0, 0, 1, 0, 0, 0, 0, 0, 0, 0, 0, 0, 0, 0],\n",
    "    [0, 0, 0, 0, 0, 0, 0, 0, 0, 0, 0, 0, 0, 0, 0, 0],\n",
    "    [0, 0, 0, 0, 0, 0, 0, 0, 0, 0, 0, 0, 0, 0, 0, 0],\n",
    "    [0, 0, 0, 0, 0, 0, 0, 0, 0, 0, 0, 0, 0, 0, 0, 0],\n",
    "    [0, 0, 0, 0, 0, 0, 0, 0, 0, 0, 0, 0, 0, 0, 0, 0],\n",
    "    [0, 0, 0, 0, 0, 0, 0, 0, 0, 0, 0, 0, 0, 0, 0, 0],\n",
    "    [0, 0, 0, 0, 0, 0, 0, 0, 0, 0, 0, 0, 0, 0, 0, 0],\n",
    "    [0, 0, 0, 0, 0, 0, 0, 0, 0, 0, 0, 1, 0, 0, 0, 0],\n",
    "    [0, 0, 0, 0, 0, 0, 0, 0, 0, 0, 0, 0, 0, 0, 0, 0],\n",
    "    [0, 0, 0, 0, 0, 0, 0, 0, 0, 0, 0, 0, 0, 1, 0, 0],\n",
    "    [0, 0, 0, 0, 0, 0, 0, 0, 0, 0, 0, 0, 0, 0, 1, 0]]\n",
    ")\n",
    "\n",
    "\n",
    "right_matrix = np.array(\n",
    "    [[0, 0, 0, 0, 0, 0, 0, 0, 0, 0, 0, 0, 0, 0, 0, 0],\n",
    "    [1, 0, 0, 0, 0, 0, 0, 0, 0, 0, 0, 0, 0, 0, 0, 0],\n",
    "    [0, 1, 1, 1, 1, 0, 0, 0, 0, 0, 0, 1, 0, 0, 0, 0],\n",
    "    [0, 0, 0, 0, 0, 0, 0, 0, 0, 0, 0, 0, 0, 0, 0, 0],\n",
    "    [0, 0, 0, 0, 0, 0, 0, 0, 0, 0, 0, 0, 0, 0, 0, 0],\n",
    "    [0, 0, 0, 0, 0, 0, 0, 0, 0, 0, 0, 0, 0, 0, 0, 0],\n",
    "    [0, 0, 0, 0, 0, 1, 0, 0, 0, 0, 0, 0, 0, 0, 0, 0],\n",
    "    [0, 0, 0, 0, 0, 0, 1, 0, 0, 0, 0, 0, 0, 0, 0, 0],\n",
    "    [0, 0, 0, 0, 0, 0, 0, 1, 0, 0, 0, 0, 0, 0, 0, 0],\n",
    "    [0, 0, 0, 0, 0, 0, 0, 0, 1, 0, 0, 0, 0, 0, 0, 0],\n",
    "    [0, 0, 0, 0, 0, 0, 0, 0, 0, 1, 0, 0, 0, 0, 0, 0],\n",
    "    [0, 0, 0, 0, 0, 0, 0, 0, 0, 0, 1, 0, 0, 0, 0, 0],\n",
    "    [0, 0, 0, 0, 0, 0, 0, 0, 0, 0, 0, 0, 0, 0, 0, 0],\n",
    "    [0, 0, 0, 0, 0, 0, 0, 0, 0, 0, 0, 0, 1, 0, 0, 0],\n",
    "    [0, 0, 0, 0, 0, 0, 0, 0, 0, 0, 0, 0, 0, 0, 0, 0],\n",
    "    [0, 0, 0, 0, 0, 0, 0, 0, 0, 0, 0, 0, 0, 0, 0, 0]]\n",
    ")"
   ]
  },
  {
   "cell_type": "code",
   "execution_count": 11,
   "metadata": {},
   "outputs": [],
   "source": [
    "# Takes the adjacecny matrix, the list of domains, and the trasnfer oprator and create the super adjacency matrix.\n",
    "\n",
    "K = N = 100\n",
    "\n",
    "super_adjacency_matrix_left = create_super_adjacency(left_matrix, domains, L_left, K, N)\n",
    "super_adjacency_matrix_right = create_super_adjacency(right_matrix, domains, L_right, K, N)\n",
    "\n",
    "super_adjacency_matrix = super_adjacency_matrix_left + super_adjacency_matrix_right"
   ]
  },
  {
   "cell_type": "code",
   "execution_count": 12,
   "metadata": {},
   "outputs": [],
   "source": [
    "evals = np.linalg.eigvals(super_adjacency_matrix)\n",
    "evals = evals[np.argsort(-np.abs(evals))]"
   ]
  },
  {
   "cell_type": "code",
   "execution_count": 13,
   "metadata": {},
   "outputs": [],
   "source": [
    "L_hat = cheb_op_ap(L, 500, 500, (0, 1), (0, 1)).T\n",
    "evals_full_map = np.linalg.eigvals(L_hat)\n",
    "evals_full_map = evals_full_map[np.argsort(-np.abs(evals_full_map))]"
   ]
  },
  {
   "cell_type": "code",
   "execution_count": 16,
   "metadata": {},
   "outputs": [],
   "source": [
    "L_ulam = ulams_method(100, 1000, tent_map)\n",
    "evals_ulam = np.linalg.eigvals(L_hat)\n",
    "evals_ulam = evals_ulam[np.argsort(-np.abs(evals_ulam))]"
   ]
  },
  {
   "cell_type": "code",
   "execution_count": 18,
   "metadata": {},
   "outputs": [
    {
     "data": {
      "image/png": "[encoded data removed]",
      "text/plain": [
       "<Figure size 640x480 with 1 Axes>"
      ]
     },
     "metadata": {},
     "output_type": "display_data"
    }
   ],
   "source": [
    "num = 10\n",
    "\n",
    "plt.scatter(np.real(evals)[0:num], np.imag(evals)[0:num])\n",
    "plt.scatter(np.real(evals_full_map)[0:num], np.imag(evals_full_map)[0:num], color='red', marker='x')\n",
    "plt.scatter(np.real(evals_ulam)[0:num], np.imag(evals_ulam)[0:num], color='orange', marker='*')\n",
    "plt.gca().set_aspect('equal', adjustable='box')\n",
    "plt.show()"
   ]
  },
  {
   "cell_type": "code",
   "execution_count": null,
   "metadata": {},
   "outputs": [],
   "source": []
  }
 ],
 "metadata": {
  "kernelspec": {
   "display_name": "denr3901",
   "language": "python",
   "name": "python3"
  },
  "language_info": {
   "codemirror_mode": {
    "name": "ipython",
    "version": 3
   },
   "file_extension": ".py",
   "mimetype": "text/x-python",
   "name": "python",
   "nbconvert_exporter": "python",
   "pygments_lexer": "ipython3",
   "version": "3.11.11"
  }
 },
 "nbformat": 4,
 "nbformat_minor": 2
}
