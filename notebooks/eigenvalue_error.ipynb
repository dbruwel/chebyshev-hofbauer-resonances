{
 "cells": [
  {
   "cell_type": "code",
   "execution_count": 6,
   "id": "678cf2e5-e0f1-4d2a-9797-6e724fc90a1d",
   "metadata": {},
   "outputs": [
    {
     "name": "stdout",
     "output_type": "stream",
     "text": [
      "/Users/adrianzhao/Documents/Denison\n"
     ]
    },
    {
     "name": "stderr",
     "output_type": "stream",
     "text": [
      "/Users/adrianzhao/opt/anaconda3/envs/py3.12.3/lib/python3.12/site-packages/IPython/core/magics/osm.py:417: UserWarning: using dhist requires you to install the `pickleshare` library.\n",
      "  self.shell.db['dhist'] = compress_dhist(dhist)[-100:]\n"
     ]
    }
   ],
   "source": [
    "%cd ..\n",
    "\n",
    "import warnings\n",
    "warnings.filterwarnings('ignore')\n",
    "\n",
    "import numpy as np\n",
    "import matplotlib.pyplot as plt\n",
    "from scripts.operator_approx import cheb_op_ap\n",
    "from scripts.adjacency_to_super import create_super_adjacency, generate_opp_approx\n",
    "from scripts.ulams_method import ulams_method\n",
    "from scripts.hofbauer_functions import create_adjacency_matricies\n"
   ]
  },
  {
   "cell_type": "code",
   "execution_count": 7,
   "id": "20525447-4046-4766-8508-f5d3f3ccfd4e",
   "metadata": {},
   "outputs": [],
   "source": [
    "# Tent map functions and adjacency matrices\n",
    "alpha = 1.9  # Parameter for the tent map\n",
    "\n",
    "def tent_map(x):\n",
    "    return alpha * np.minimum(x, 1 - x)\n",
    "\n",
    "# Left branch operator\n",
    "def L_left(phi):\n",
    "    return lambda x: np.where((x >= 0) & (x <= alpha / 2), (1 / alpha) * phi(x / alpha), np.nan)\n",
    "\n",
    "# Right branch operator\n",
    "def L_right(phi):\n",
    "    return lambda x: np.where((x >= 0) & (x <= alpha / 2), (1 / alpha) * phi(1 - x / alpha), np.nan)\n",
    "\n",
    "# Full transfer operator\n",
    "def L(phi):\n",
    "    return lambda x: np.where((x >= 0) & (x <= alpha / 2), \n",
    "                              (1 / alpha) * (phi(x / alpha) + phi(1 - x / alpha)), 0)"
   ]
  },
  {
   "cell_type": "code",
   "execution_count": 8,
   "id": "ea227d9a-cf33-470b-9b34-b5a70ccb6b23",
   "metadata": {},
   "outputs": [],
   "source": [
    "# # just sample data. Comes from the left branch of the tent map for alpha=1.9. Just copied over for now.\n",
    "\n",
    "# domains = [\n",
    "#     (0.0, 1.0),\n",
    "#     (0.0, 0.95),\n",
    "#     (0.095, 0.95),\n",
    "#     (0.1805, 0.95),\n",
    "#     (0.34295, 0.95),\n",
    "#     (0.651605, 0.95),\n",
    "#     (0.095, 0.6619505),\n",
    "#     (0.64229405, 0.95),\n",
    "#     (0.095, 0.67964131),\n",
    "#     (0.60868151, 0.95),\n",
    "#     (0.095, 0.74350513),\n",
    "#     (0.48734025, 0.95),\n",
    "#     (0.92594647, 0.95),\n",
    "#     (0.095, 0.14070171),\n",
    "#     (0.1805, 0.26733325),\n",
    "#     (0.34295, 0.50793318)\n",
    "# ]\n",
    "\n",
    "# left_matrix = np.array(\n",
    "#     [[0, 0, 0, 0, 0, 0, 0, 0, 0, 0, 0, 0, 0, 0, 0, 0],\n",
    "#     [1, 1, 0, 0, 0, 0, 0, 0, 0, 0, 0, 0, 0, 0, 0, 0],\n",
    "#     [0, 0, 0, 0, 0, 0, 0, 0, 0, 0, 0, 0, 0, 0, 0, 0],\n",
    "#     [0, 0, 1, 0, 0, 0, 1, 0, 1, 0, 1, 0, 0, 0, 0, 0],\n",
    "#     [0, 0, 0, 1, 0, 0, 0, 0, 0, 0, 0, 0, 0, 0, 0, 0],\n",
    "#     [0, 0, 0, 0, 1, 0, 0, 0, 0, 0, 0, 0, 0, 0, 0, 0],\n",
    "#     [0, 0, 0, 0, 0, 0, 0, 0, 0, 0, 0, 0, 0, 0, 0, 0],\n",
    "#     [0, 0, 0, 0, 0, 0, 0, 0, 0, 0, 0, 0, 0, 0, 0, 0],\n",
    "#     [0, 0, 0, 0, 0, 0, 0, 0, 0, 0, 0, 0, 0, 0, 0, 0],\n",
    "#     [0, 0, 0, 0, 0, 0, 0, 0, 0, 0, 0, 0, 0, 0, 0, 0],\n",
    "#     [0, 0, 0, 0, 0, 0, 0, 0, 0, 0, 0, 0, 0, 0, 0, 0],\n",
    "#     [0, 0, 0, 0, 0, 0, 0, 0, 0, 0, 0, 0, 0, 0, 0, 0],\n",
    "#     [0, 0, 0, 0, 0, 0, 0, 0, 0, 0, 0, 1, 0, 0, 0, 0],\n",
    "#     [0, 0, 0, 0, 0, 0, 0, 0, 0, 0, 0, 0, 0, 0, 0, 0],\n",
    "#     [0, 0, 0, 0, 0, 0, 0, 0, 0, 0, 0, 0, 0, 1, 0, 0],\n",
    "#     [0, 0, 0, 0, 0, 0, 0, 0, 0, 0, 0, 0, 0, 0, 1, 0]]\n",
    "# )\n",
    "\n",
    "\n",
    "# right_matrix = np.array(\n",
    "#     [[0, 0, 0, 0, 0, 0, 0, 0, 0, 0, 0, 0, 0, 0, 0, 0],\n",
    "#     [1, 0, 0, 0, 0, 0, 0, 0, 0, 0, 0, 0, 0, 0, 0, 0],\n",
    "#     [0, 1, 1, 1, 1, 0, 0, 0, 0, 0, 0, 1, 0, 0, 0, 0],\n",
    "#     [0, 0, 0, 0, 0, 0, 0, 0, 0, 0, 0, 0, 0, 0, 0, 0],\n",
    "#     [0, 0, 0, 0, 0, 0, 0, 0, 0, 0, 0, 0, 0, 0, 0, 0],\n",
    "#     [0, 0, 0, 0, 0, 0, 0, 0, 0, 0, 0, 0, 0, 0, 0, 0],\n",
    "#     [0, 0, 0, 0, 0, 1, 0, 0, 0, 0, 0, 0, 0, 0, 0, 0],\n",
    "#     [0, 0, 0, 0, 0, 0, 1, 0, 0, 0, 0, 0, 0, 0, 0, 0],\n",
    "#     [0, 0, 0, 0, 0, 0, 0, 1, 0, 0, 0, 0, 0, 0, 0, 0],\n",
    "#     [0, 0, 0, 0, 0, 0, 0, 0, 1, 0, 0, 0, 0, 0, 0, 0],\n",
    "#     [0, 0, 0, 0, 0, 0, 0, 0, 0, 1, 0, 0, 0, 0, 0, 0],\n",
    "#     [0, 0, 0, 0, 0, 0, 0, 0, 0, 0, 1, 0, 0, 0, 0, 0],\n",
    "#     [0, 0, 0, 0, 0, 0, 0, 0, 0, 0, 0, 0, 0, 0, 0, 0],\n",
    "#     [0, 0, 0, 0, 0, 0, 0, 0, 0, 0, 0, 0, 1, 0, 0, 0],\n",
    "#     [0, 0, 0, 0, 0, 0, 0, 0, 0, 0, 0, 0, 0, 0, 0, 0],\n",
    "#     [0, 0, 0, 0, 0, 0, 0, 0, 0, 0, 0, 0, 0, 0, 0, 0]]\n",
    "# )"
   ]
  },
  {
   "cell_type": "code",
   "execution_count": 9,
   "id": "de52c5e0-aa7c-48ea-a5fd-b12c741ce7bf",
   "metadata": {},
   "outputs": [
    {
     "name": "stdout",
     "output_type": "stream",
     "text": [
      "Eigenvalue errors: [(10, 5, 0.06513188239267964), (10, 10, 0.03583795136889645), (10, 15, 0.0332044153323966), (10, 20, 0.033178835768219006), (20, 5, 0.0268230077493955), (20, 10, 0.002470923274387693), (20, 15, 0.0051044593108870995), (20, 20, 0.005130038875068688), (50, 5, 0.03509134587912144), (50, 10, 0.005797414855336358), (50, 15, 0.003163878818835286), (50, 20, 0.003138299254658472), (100, 5, 0.03506143393905181), (100, 10, 0.0057675029152629564), (100, 15, 0.003133966878768213), (100, 20, 0.003108387314591954), (200, 5, 0.03066952485845753), (200, 10, 0.0013755938346678986), (200, 15, 0.0012579422018264008), (200, 20, 0.0012835217660058795)]\n"
     ]
    }
   ],
   "source": [
    "# Parameters for Chebyshev approximation\n",
    "K_values = [10, 20, 50, 100, 200]  # Number of Chebyshev points\n",
    "depth_values = [5, 10, 15, 20]  # Depth of approximation\n",
    "\n",
    "# Investigating eigenvalue errors\n",
    "eigenvalue_errors = []\n",
    "for K in K_values:\n",
    "    for depth in depth_values:\n",
    "\n",
    "        result = create_adjacency_matricies(alpha, depth)\n",
    "        domains = result[0]\n",
    "        left_matrix = result[2]\n",
    "        right_matrix = result[3]\n",
    "        \n",
    "        # Create super-adjacency matrices, adjusting based on the current depth\n",
    "        super_adjacency_matrix_left = create_super_adjacency(left_matrix, domains, L_left, K, K, 1)\n",
    "        super_adjacency_matrix_right = create_super_adjacency(right_matrix, domains, L_right, K, K, 1)\n",
    "        super_adjacency_matrix = super_adjacency_matrix_left + super_adjacency_matrix_right\n",
    "        \n",
    "        # Eigenvalues for super adjacency\n",
    "        evals_super = np.linalg.eigvals(super_adjacency_matrix)\n",
    "        evals_super = evals_super[np.argsort(-np.abs(evals_super))]\n",
    "        \n",
    "        # Full map eigenvalues, adjusting based on the current depth\n",
    "        L_hat = cheb_op_ap(L, K, K, (0, 1), (0, 1), 1).T  # Include depth in the operator\n",
    "        evals_full_map = np.linalg.eigvals(L_hat)\n",
    "        evals_full_map = evals_full_map[np.argsort(-np.abs(evals_full_map))]\n",
    "        \n",
    "        # Error for largest eigenvalue\n",
    "        largest_eigenvalue_super = evals_super[0]\n",
    "        largest_eigenvalue_full_map = evals_full_map[0]\n",
    "        error = np.abs(largest_eigenvalue_super - largest_eigenvalue_full_map)\n",
    "        \n",
    "        eigenvalue_errors.append((K, depth, error))\n",
    "\n",
    "# Print out the errors for verification\n",
    "print(\"Eigenvalue errors:\", eigenvalue_errors)\n"
   ]
  },
  {
   "cell_type": "code",
   "execution_count": 10,
   "id": "464525f7-3d83-4662-8802-f6622b6deafa",
   "metadata": {},
   "outputs": [
    {
     "name": "stdout",
     "output_type": "stream",
     "text": [
      "[[1.00000000e+01 5.00000000e+00 6.51318824e-02]\n",
      " [1.00000000e+01 1.00000000e+01 3.58379514e-02]\n",
      " [1.00000000e+01 1.50000000e+01 3.32044153e-02]\n",
      " [1.00000000e+01 2.00000000e+01 3.31788358e-02]\n",
      " [2.00000000e+01 5.00000000e+00 2.68230077e-02]\n",
      " [2.00000000e+01 1.00000000e+01 2.47092327e-03]\n",
      " [2.00000000e+01 1.50000000e+01 5.10445931e-03]\n",
      " [2.00000000e+01 2.00000000e+01 5.13003888e-03]\n",
      " [5.00000000e+01 5.00000000e+00 3.50913459e-02]\n",
      " [5.00000000e+01 1.00000000e+01 5.79741486e-03]\n",
      " [5.00000000e+01 1.50000000e+01 3.16387882e-03]\n",
      " [5.00000000e+01 2.00000000e+01 3.13829925e-03]\n",
      " [1.00000000e+02 5.00000000e+00 3.50614339e-02]\n",
      " [1.00000000e+02 1.00000000e+01 5.76750292e-03]\n",
      " [1.00000000e+02 1.50000000e+01 3.13396688e-03]\n",
      " [1.00000000e+02 2.00000000e+01 3.10838731e-03]\n",
      " [2.00000000e+02 5.00000000e+00 3.06695249e-02]\n",
      " [2.00000000e+02 1.00000000e+01 1.37559383e-03]\n",
      " [2.00000000e+02 1.50000000e+01 1.25794220e-03]\n",
      " [2.00000000e+02 2.00000000e+01 1.28352177e-03]]\n"
     ]
    },
    {
     "data": {
      "image/png": "[encoded data removed]",
      "text/plain": [
       "<Figure size 640x480 with 1 Axes>"
      ]
     },
     "metadata": {},
     "output_type": "display_data"
    }
   ],
   "source": [
    "# Plotting eigenvalue errors\n",
    "eigenvalue_errors = np.array(eigenvalue_errors)\n",
    "print(eigenvalue_errors)\n",
    "for depth in depth_values:\n",
    "    errors_at_depth = eigenvalue_errors[eigenvalue_errors[:, 1] == depth]\n",
    "    plt.plot(errors_at_depth[:, 0], errors_at_depth[:, 2], label=f\"Depth = {depth}\")\n",
    "\n",
    "# Set x-axis to log scale\n",
    "#plt.xscale(\"log\")\n",
    "\n",
    "# Set y-axis to log scale\n",
    "plt.yscale(\"log\")\n",
    "\n",
    "# Custom x-axis ticks\n",
    "x_ticks = K_values  # Use the K values as x-ticks\n",
    "plt.xticks(x_ticks, labels=[f\"{k}\" for k in x_ticks])\n",
    "\n",
    "# Custom y-axis ticks\n",
    "#y_ticks = np.logspace(-5, -1, 5)  # Generate ticks from 10^-5 to 10^-1\n",
    "#plt.yticks(y_ticks, labels=[f\"$10^{{{int(np.log10(y))}}}$\" for y in y_ticks])\n",
    "\n",
    "# Add labels and legend\n",
    "plt.xlabel(\"Number of Chebyshev Points (K)\")\n",
    "plt.ylabel(\"Eigenvalue Error\")\n",
    "plt.title(\"Eigenvalue Error vs. Chebyshev Points\")\n",
    "plt.legend()\n",
    "plt.grid()\n",
    "plt.show()\n"
   ]
  },
  {
   "cell_type": "code",
   "execution_count": 7,
   "id": "39d5ec45-87b0-460f-9d41-735dd882f4c9",
   "metadata": {},
   "outputs": [
    {
     "name": "stdout",
     "output_type": "stream",
     "text": [
      "K=10, Depth=5, C=0.0180, C1=0.0230, C2=0.0225, Xi=0.0036\n",
      "K=10, Depth=10, C=0.0003, C1=0.0005, C2=0.0005, Xi=0.0000\n",
      "K=10, Depth=15, C=0.0000, C1=0.0000, C2=0.0000, Xi=0.0000\n",
      "K=10, Depth=20, C=0.0000, C1=0.0000, C2=0.0000, Xi=0.0000\n",
      "K=20, Depth=5, C=0.0010, C1=0.0062, C2=0.0049, Xi=0.0002\n",
      "K=20, Depth=10, C=0.0000, C1=0.0000, C2=0.0000, Xi=0.0000\n",
      "K=20, Depth=15, C=0.0000, C1=0.0000, C2=0.0000, Xi=0.0000\n",
      "K=20, Depth=20, C=0.0000, C1=0.0000, C2=0.0000, Xi=0.0000\n",
      "K=50, Depth=5, C=0.0000, C1=0.0010, C2=0.0009, Xi=0.0000\n",
      "K=50, Depth=10, C=0.0000, C1=0.0000, C2=0.0000, Xi=0.0000\n",
      "K=50, Depth=15, C=0.0000, C1=0.0000, C2=0.0000, Xi=0.0000\n",
      "K=50, Depth=20, C=0.0000, C1=0.0000, C2=0.0000, Xi=0.0000\n",
      "K=100, Depth=5, C=0.0000, C1=0.0003, C2=0.0002, Xi=0.0000\n",
      "K=100, Depth=10, C=0.0000, C1=0.0000, C2=0.0000, Xi=0.0000\n",
      "K=100, Depth=15, C=0.0000, C1=0.0000, C2=0.0000, Xi=0.0000\n",
      "K=100, Depth=20, C=0.0000, C1=0.0000, C2=0.0000, Xi=0.0000\n",
      "K=200, Depth=5, C=0.0000, C1=0.0001, C2=0.0000, Xi=0.0000\n",
      "K=200, Depth=10, C=0.0000, C1=0.0000, C2=0.0000, Xi=0.0000\n",
      "K=200, Depth=15, C=0.0000, C1=0.0000, C2=0.0000, Xi=0.0000\n",
      "K=200, Depth=20, C=0.0000, C1=0.0000, C2=0.0000, Xi=0.0000\n"
     ]
    }
   ],
   "source": [
    "# Compute Constants\n",
    "constants = []\n",
    "\n",
    "for K in K_values:\n",
    "    for depth in depth_values:\n",
    "        # Create super-adjacency matrices, adjusting based on the current depth\n",
    "        super_adjacency_matrix_left = create_super_adjacency(left_matrix, domains, L_left, K, K, depth)\n",
    "        super_adjacency_matrix_right = create_super_adjacency(right_matrix, domains, L_right, K, K, depth)\n",
    "        super_adjacency_matrix = super_adjacency_matrix_left + super_adjacency_matrix_right\n",
    "        \n",
    "        # Eigenvalues for super adjacency\n",
    "        evals_super = np.linalg.eigvals(super_adjacency_matrix)\n",
    "        evals_super = evals_super[np.argsort(-np.abs(evals_super))]\n",
    "        \n",
    "        # Full map eigenvalues, adjusting based on the current depth\n",
    "        L_hat = cheb_op_ap(L, K, K, (0, 1), (0, 1), depth).T  # Include depth in the operator\n",
    "        evals_full_map = np.linalg.eigvals(L_hat)\n",
    "        evals_full_map = evals_full_map[np.argsort(-np.abs(evals_full_map))]\n",
    "        \n",
    "        # Largest eigenvalue for both matrices\n",
    "        largest_eigenvalue_super = evals_super[0]\n",
    "        largest_eigenvalue_full_map = evals_full_map[0]\n",
    "        \n",
    "        # C: Difference between largest eigenvalues (super adjacency vs full map)\n",
    "        C = np.abs(largest_eigenvalue_super - largest_eigenvalue_full_map)\n",
    "        \n",
    "        # C1, C2: Constants related to the matrices (e.g., second and third eigenvalues)\n",
    "        C1 = np.abs(evals_super[1])  # You can modify this as needed\n",
    "        C2 = np.abs(evals_full_map[1])  # You can modify this as needed\n",
    "        \n",
    "        # Xi: Error term or refinement constant (difference between the eigenvalues for different depths)\n",
    "        Xi = np.abs(largest_eigenvalue_super - largest_eigenvalue_full_map) / depth\n",
    "        \n",
    "        # Store the constants\n",
    "        constants.append((K, depth, C, C1, C2, Xi))\n",
    "\n",
    "# Print the constants for verification\n",
    "for K, depth, C, C1, C2, Xi in constants:\n",
    "    print(f\"K={K}, Depth={depth}, C={C:.4f}, C1={C1:.4f}, C2={C2:.4f}, Xi={Xi:.4f}\")\n"
   ]
  },
  {
   "cell_type": "code",
   "execution_count": null,
   "id": "8181e087-4d72-4bd9-8c1d-69896c9dc051",
   "metadata": {},
   "outputs": [],
   "source": []
  }
 ],
 "metadata": {
  "kernelspec": {
   "display_name": "Python 3 (ipykernel)",
   "language": "python",
   "name": "python3"
  },
  "language_info": {
   "codemirror_mode": {
    "name": "ipython",
    "version": 3
   },
   "file_extension": ".py",
   "mimetype": "text/x-python",
   "name": "python",
   "nbconvert_exporter": "python",
   "pygments_lexer": "ipython3",
   "version": "3.12.3"
  }
 },
 "nbformat": 4,
 "nbformat_minor": 5
}
